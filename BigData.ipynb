{
  "nbformat": 4,
  "nbformat_minor": 0,
  "metadata": {
    "colab": {
      "provenance": []
    },
    "kernelspec": {
      "name": "python3",
      "display_name": "Python 3"
    },
    "language_info": {
      "name": "python"
    }
  },
  "cells": [
    {
      "cell_type": "markdown",
      "source": [
        "# 1. Importing Libraries and Loading the Dataset"
      ],
      "metadata": {
        "id": "JQnxYToVrMQe"
      }
    },
    {
      "cell_type": "code",
      "execution_count": 1,
      "metadata": {
        "colab": {
          "base_uri": "https://localhost:8080/"
        },
        "id": "aZBW-rpQrJ9S",
        "outputId": "efbddf77-5488-403a-d3a9-1e57dfab88b3"
      },
      "outputs": [
        {
          "output_type": "stream",
          "name": "stdout",
          "text": [
            "Dataset Info:\n",
            "<class 'pandas.core.frame.DataFrame'>\n",
            "RangeIndex: 8950 entries, 0 to 8949\n",
            "Data columns (total 18 columns):\n",
            " #   Column                            Non-Null Count  Dtype  \n",
            "---  ------                            --------------  -----  \n",
            " 0   CUST_ID                           8950 non-null   object \n",
            " 1   BALANCE                           8950 non-null   float64\n",
            " 2   BALANCE_FREQUENCY                 8950 non-null   float64\n",
            " 3   PURCHASES                         8950 non-null   float64\n",
            " 4   ONEOFF_PURCHASES                  8950 non-null   float64\n",
            " 5   INSTALLMENTS_PURCHASES            8950 non-null   float64\n",
            " 6   CASH_ADVANCE                      8950 non-null   float64\n",
            " 7   PURCHASES_FREQUENCY               8950 non-null   float64\n",
            " 8   ONEOFF_PURCHASES_FREQUENCY        8950 non-null   float64\n",
            " 9   PURCHASES_INSTALLMENTS_FREQUENCY  8950 non-null   float64\n",
            " 10  CASH_ADVANCE_FREQUENCY            8950 non-null   float64\n",
            " 11  CASH_ADVANCE_TRX                  8950 non-null   int64  \n",
            " 12  PURCHASES_TRX                     8950 non-null   int64  \n",
            " 13  CREDIT_LIMIT                      8949 non-null   float64\n",
            " 14  PAYMENTS                          8950 non-null   float64\n",
            " 15  MINIMUM_PAYMENTS                  8637 non-null   float64\n",
            " 16  PRC_FULL_PAYMENT                  8950 non-null   float64\n",
            " 17  TENURE                            8950 non-null   int64  \n",
            "dtypes: float64(14), int64(3), object(1)\n",
            "memory usage: 1.2+ MB\n",
            "\n",
            "First Few Rows:\n",
            "  CUST_ID      BALANCE  BALANCE_FREQUENCY  PURCHASES  ONEOFF_PURCHASES  \\\n",
            "0  C10001    40.900749           0.818182      95.40              0.00   \n",
            "1  C10002  3202.467416           0.909091       0.00              0.00   \n",
            "2  C10003  2495.148862           1.000000     773.17            773.17   \n",
            "3  C10004  1666.670542           0.636364    1499.00           1499.00   \n",
            "4  C10005   817.714335           1.000000      16.00             16.00   \n",
            "\n",
            "   INSTALLMENTS_PURCHASES  CASH_ADVANCE  PURCHASES_FREQUENCY  \\\n",
            "0                    95.4      0.000000             0.166667   \n",
            "1                     0.0   6442.945483             0.000000   \n",
            "2                     0.0      0.000000             1.000000   \n",
            "3                     0.0    205.788017             0.083333   \n",
            "4                     0.0      0.000000             0.083333   \n",
            "\n",
            "   ONEOFF_PURCHASES_FREQUENCY  PURCHASES_INSTALLMENTS_FREQUENCY  \\\n",
            "0                    0.000000                          0.083333   \n",
            "1                    0.000000                          0.000000   \n",
            "2                    1.000000                          0.000000   \n",
            "3                    0.083333                          0.000000   \n",
            "4                    0.083333                          0.000000   \n",
            "\n",
            "   CASH_ADVANCE_FREQUENCY  CASH_ADVANCE_TRX  PURCHASES_TRX  CREDIT_LIMIT  \\\n",
            "0                0.000000                 0              2        1000.0   \n",
            "1                0.250000                 4              0        7000.0   \n",
            "2                0.000000                 0             12        7500.0   \n",
            "3                0.083333                 1              1        7500.0   \n",
            "4                0.000000                 0              1        1200.0   \n",
            "\n",
            "      PAYMENTS  MINIMUM_PAYMENTS  PRC_FULL_PAYMENT  TENURE  \n",
            "0   201.802084        139.509787          0.000000      12  \n",
            "1  4103.032597       1072.340217          0.222222      12  \n",
            "2   622.066742        627.284787          0.000000      12  \n",
            "3     0.000000               NaN          0.000000      12  \n",
            "4   678.334763        244.791237          0.000000      12  \n"
          ]
        }
      ],
      "source": [
        "# Import necessary libraries\n",
        "import pandas as pd\n",
        "import numpy as np\n",
        "from sklearn.cluster import KMeans\n",
        "from sklearn.preprocessing import MinMaxScaler\n",
        "from sklearn.model_selection import train_test_split\n",
        "from sklearn.tree import DecisionTreeClassifier\n",
        "from sklearn.metrics import classification_report, accuracy_score, confusion_matrix\n",
        "\n",
        "# Load the dataset\n",
        "file_path = '/content/Customer Data.csv'\n",
        "df = pd.read_csv(file_path)\n",
        "\n",
        "# Display basic information about the dataset\n",
        "print(\"Dataset Info:\")\n",
        "df.info()\n",
        "\n",
        "# Display the first few rows to understand the structure\n",
        "print(\"\\nFirst Few Rows:\")\n",
        "print(df.head())"
      ]
    },
    {
      "cell_type": "markdown",
      "source": [
        "# 2. Data Preprocessing"
      ],
      "metadata": {
        "id": "-wP50Ma1rdZy"
      }
    },
    {
      "cell_type": "markdown",
      "source": [
        "### 2.1: Handle Missing Values"
      ],
      "metadata": {
        "id": "ZhpwXhfyrkuD"
      }
    },
    {
      "cell_type": "code",
      "source": [
        "# Handle missing values for numeric columns\n",
        "numeric_columns = df.select_dtypes(include=['float64', 'int64']).columns  # Select numeric columns only\n",
        "df[numeric_columns] = df[numeric_columns].fillna(df[numeric_columns].median())\n",
        "\n",
        "# Verify no missing values remain in the dataset\n",
        "print(\"\\nMissing Values After Imputation:\")\n",
        "print(df.isnull().sum())\n"
      ],
      "metadata": {
        "colab": {
          "base_uri": "https://localhost:8080/"
        },
        "id": "JmkkvYCdrO2F",
        "outputId": "54890ad4-8739-46dc-b46e-4c73a7546e0a"
      },
      "execution_count": 3,
      "outputs": [
        {
          "output_type": "stream",
          "name": "stdout",
          "text": [
            "\n",
            "Missing Values After Imputation:\n",
            "CUST_ID                             0\n",
            "BALANCE                             0\n",
            "BALANCE_FREQUENCY                   0\n",
            "PURCHASES                           0\n",
            "ONEOFF_PURCHASES                    0\n",
            "INSTALLMENTS_PURCHASES              0\n",
            "CASH_ADVANCE                        0\n",
            "PURCHASES_FREQUENCY                 0\n",
            "ONEOFF_PURCHASES_FREQUENCY          0\n",
            "PURCHASES_INSTALLMENTS_FREQUENCY    0\n",
            "CASH_ADVANCE_FREQUENCY              0\n",
            "CASH_ADVANCE_TRX                    0\n",
            "PURCHASES_TRX                       0\n",
            "CREDIT_LIMIT                        0\n",
            "PAYMENTS                            0\n",
            "MINIMUM_PAYMENTS                    0\n",
            "PRC_FULL_PAYMENT                    0\n",
            "TENURE                              0\n",
            "dtype: int64\n"
          ]
        }
      ]
    },
    {
      "cell_type": "markdown",
      "source": [
        "### 2.2: Normalize Numeric Features"
      ],
      "metadata": {
        "id": "bbqbzk4SslFq"
      }
    },
    {
      "cell_type": "code",
      "source": [
        "# Scale numeric features\n",
        "scaler = MinMaxScaler()\n",
        "numeric_columns = df.select_dtypes(include=['float64', 'int64']).columns\n",
        "df[numeric_columns] = scaler.fit_transform(df[numeric_columns])\n",
        "\n",
        "# Display the first few rows after scaling\n",
        "print(\"\\nFirst Few Rows After Scaling:\")\n",
        "print(df.head())"
      ],
      "metadata": {
        "colab": {
          "base_uri": "https://localhost:8080/"
        },
        "id": "BXwjAa-nrow0",
        "outputId": "fa742885-ddd2-41ff-baa6-19197bf5b8ac"
      },
      "execution_count": 4,
      "outputs": [
        {
          "output_type": "stream",
          "name": "stdout",
          "text": [
            "\n",
            "First Few Rows After Scaling:\n",
            "  CUST_ID   BALANCE  BALANCE_FREQUENCY  PURCHASES  ONEOFF_PURCHASES  \\\n",
            "0  C10001  0.002148           0.818182   0.001945          0.000000   \n",
            "1  C10002  0.168169           0.909091   0.000000          0.000000   \n",
            "2  C10003  0.131026           1.000000   0.015766          0.018968   \n",
            "3  C10004  0.087521           0.636364   0.030567          0.036775   \n",
            "4  C10005  0.042940           1.000000   0.000326          0.000393   \n",
            "\n",
            "   INSTALLMENTS_PURCHASES  CASH_ADVANCE  PURCHASES_FREQUENCY  \\\n",
            "0                 0.00424      0.000000             0.166667   \n",
            "1                 0.00000      0.136685             0.000000   \n",
            "2                 0.00000      0.000000             1.000000   \n",
            "3                 0.00000      0.004366             0.083333   \n",
            "4                 0.00000      0.000000             0.083333   \n",
            "\n",
            "   ONEOFF_PURCHASES_FREQUENCY  PURCHASES_INSTALLMENTS_FREQUENCY  \\\n",
            "0                    0.000000                          0.083333   \n",
            "1                    0.000000                          0.000000   \n",
            "2                    1.000000                          0.000000   \n",
            "3                    0.083333                          0.000000   \n",
            "4                    0.083333                          0.000000   \n",
            "\n",
            "   CASH_ADVANCE_FREQUENCY  CASH_ADVANCE_TRX  PURCHASES_TRX  CREDIT_LIMIT  \\\n",
            "0                0.000000           0.00000       0.005587      0.031720   \n",
            "1                0.166667           0.03252       0.000000      0.232053   \n",
            "2                0.000000           0.00000       0.033520      0.248748   \n",
            "3                0.055555           0.00813       0.002793      0.248748   \n",
            "4                0.000000           0.00000       0.002793      0.038397   \n",
            "\n",
            "   PAYMENTS  MINIMUM_PAYMENTS  PRC_FULL_PAYMENT  TENURE  \n",
            "0  0.003979          0.001826          0.000000     1.0  \n",
            "1  0.080893          0.014034          0.222222     1.0  \n",
            "2  0.012264          0.008210          0.000000     1.0  \n",
            "3  0.000000          0.004088          0.000000     1.0  \n",
            "4  0.013374          0.003204          0.000000     1.0  \n"
          ]
        }
      ]
    },
    {
      "cell_type": "markdown",
      "source": [
        "# 3. K-Means Clustering for Binary Classification"
      ],
      "metadata": {
        "id": "JQDBqgbdsq8m"
      }
    },
    {
      "cell_type": "markdown",
      "source": [
        "### 3.1: Apply K-Means"
      ],
      "metadata": {
        "id": "5v4BoVu6stjA"
      }
    },
    {
      "cell_type": "code",
      "source": [
        "# Apply K-Means clustering with 2 clusters\n",
        "kmeans = KMeans(n_clusters=2, random_state=42)\n",
        "df['Cluster'] = kmeans.fit_predict(df[numeric_columns])\n",
        "\n",
        "# Display the distribution of the clusters\n",
        "print(\"\\nCluster Distribution:\")\n",
        "print(df['Cluster'].value_counts())\n",
        "\n",
        "# Display the first few rows with the Cluster column\n",
        "print(\"\\nFirst Few Rows with Cluster Labels:\")\n",
        "print(df.head())"
      ],
      "metadata": {
        "colab": {
          "base_uri": "https://localhost:8080/"
        },
        "id": "5XgFgY0JsoJw",
        "outputId": "f2957b32-bb66-4367-f0a8-61ce134a10af"
      },
      "execution_count": 5,
      "outputs": [
        {
          "output_type": "stream",
          "name": "stdout",
          "text": [
            "\n",
            "Cluster Distribution:\n",
            "Cluster\n",
            "0    4915\n",
            "1    4035\n",
            "Name: count, dtype: int64\n",
            "\n",
            "First Few Rows with Cluster Labels:\n",
            "  CUST_ID   BALANCE  BALANCE_FREQUENCY  PURCHASES  ONEOFF_PURCHASES  \\\n",
            "0  C10001  0.002148           0.818182   0.001945          0.000000   \n",
            "1  C10002  0.168169           0.909091   0.000000          0.000000   \n",
            "2  C10003  0.131026           1.000000   0.015766          0.018968   \n",
            "3  C10004  0.087521           0.636364   0.030567          0.036775   \n",
            "4  C10005  0.042940           1.000000   0.000326          0.000393   \n",
            "\n",
            "   INSTALLMENTS_PURCHASES  CASH_ADVANCE  PURCHASES_FREQUENCY  \\\n",
            "0                 0.00424      0.000000             0.166667   \n",
            "1                 0.00000      0.136685             0.000000   \n",
            "2                 0.00000      0.000000             1.000000   \n",
            "3                 0.00000      0.004366             0.083333   \n",
            "4                 0.00000      0.000000             0.083333   \n",
            "\n",
            "   ONEOFF_PURCHASES_FREQUENCY  PURCHASES_INSTALLMENTS_FREQUENCY  \\\n",
            "0                    0.000000                          0.083333   \n",
            "1                    0.000000                          0.000000   \n",
            "2                    1.000000                          0.000000   \n",
            "3                    0.083333                          0.000000   \n",
            "4                    0.083333                          0.000000   \n",
            "\n",
            "   CASH_ADVANCE_FREQUENCY  CASH_ADVANCE_TRX  PURCHASES_TRX  CREDIT_LIMIT  \\\n",
            "0                0.000000           0.00000       0.005587      0.031720   \n",
            "1                0.166667           0.03252       0.000000      0.232053   \n",
            "2                0.000000           0.00000       0.033520      0.248748   \n",
            "3                0.055555           0.00813       0.002793      0.248748   \n",
            "4                0.000000           0.00000       0.002793      0.038397   \n",
            "\n",
            "   PAYMENTS  MINIMUM_PAYMENTS  PRC_FULL_PAYMENT  TENURE  Cluster  \n",
            "0  0.003979          0.001826          0.000000     1.0        0  \n",
            "1  0.080893          0.014034          0.222222     1.0        0  \n",
            "2  0.012264          0.008210          0.000000     1.0        1  \n",
            "3  0.000000          0.004088          0.000000     1.0        0  \n",
            "4  0.013374          0.003204          0.000000     1.0        0  \n"
          ]
        }
      ]
    },
    {
      "cell_type": "markdown",
      "source": [
        "# 4. Splitting the Dataset"
      ],
      "metadata": {
        "id": "b8O3d06hsyRK"
      }
    },
    {
      "cell_type": "code",
      "source": [
        "# Define features (X) and target (y)\n",
        "X = df.drop(columns=['Cluster', 'CUST_ID'])  # Adjust if necessary\n",
        "y = df['Cluster']\n",
        "\n",
        "# Split the data into train, validation, and test sets\n",
        "X_train, X_temp, y_train, y_temp = train_test_split(X, y, test_size=0.3, random_state=42)\n",
        "X_val, X_test, y_val, y_test = train_test_split(X_temp, y_temp, test_size=0.5, random_state=42)\n",
        "\n",
        "# Display dataset shapes\n",
        "print(\"Training Set Shape:\", X_train.shape, y_train.shape)\n",
        "print(\"Validation Set Shape:\", X_val.shape, y_val.shape)\n",
        "print(\"Test Set Shape:\", X_test.shape, y_test.shape)"
      ],
      "metadata": {
        "colab": {
          "base_uri": "https://localhost:8080/"
        },
        "id": "h6RSqPPssvmD",
        "outputId": "9c2b250c-b075-4485-c03a-11ffea73dcf7"
      },
      "execution_count": 6,
      "outputs": [
        {
          "output_type": "stream",
          "name": "stdout",
          "text": [
            "Training Set Shape: (6265, 17) (6265,)\n",
            "Validation Set Shape: (1342, 17) (1342,)\n",
            "Test Set Shape: (1343, 17) (1343,)\n"
          ]
        }
      ]
    },
    {
      "cell_type": "markdown",
      "source": [
        "# 5. Train and Evaluate Decision Tree Classifier"
      ],
      "metadata": {
        "id": "3LShgcGKs35i"
      }
    },
    {
      "cell_type": "markdown",
      "source": [
        "### 5.1: Train the Model"
      ],
      "metadata": {
        "id": "1TQQio9Rs58y"
      }
    },
    {
      "cell_type": "code",
      "source": [
        "# Initialize the Decision Tree model\n",
        "tree_model = DecisionTreeClassifier(criterion='gini', max_depth=10, random_state=42)\n",
        "\n",
        "# Train the model\n",
        "tree_model.fit(X_train, y_train)\n",
        "\n",
        "# Evaluate on the validation set\n",
        "y_val_pred = tree_model.predict(X_val)\n",
        "print(\"\\nValidation Set Accuracy:\", accuracy_score(y_val, y_val_pred))\n",
        "print(\"\\nValidation Set Classification Report:\")\n",
        "print(classification_report(y_val, y_val_pred))"
      ],
      "metadata": {
        "colab": {
          "base_uri": "https://localhost:8080/"
        },
        "id": "kEfpC5T7s0bC",
        "outputId": "1239a945-1d67-4670-fa77-075b6a9d0c00"
      },
      "execution_count": 7,
      "outputs": [
        {
          "output_type": "stream",
          "name": "stdout",
          "text": [
            "\n",
            "Validation Set Accuracy: 0.9918032786885246\n",
            "\n",
            "Validation Set Classification Report:\n",
            "              precision    recall  f1-score   support\n",
            "\n",
            "           0       0.99      0.99      0.99       716\n",
            "           1       0.99      0.99      0.99       626\n",
            "\n",
            "    accuracy                           0.99      1342\n",
            "   macro avg       0.99      0.99      0.99      1342\n",
            "weighted avg       0.99      0.99      0.99      1342\n",
            "\n"
          ]
        }
      ]
    },
    {
      "cell_type": "markdown",
      "source": [
        "### 5.2: Test the Model"
      ],
      "metadata": {
        "id": "HnXmLSk1s_0s"
      }
    },
    {
      "cell_type": "code",
      "source": [
        "# Evaluate the model on the test set\n",
        "y_test_pred = tree_model.predict(X_test)\n",
        "print(\"\\nTest Set Accuracy:\", accuracy_score(y_test, y_test_pred))\n",
        "print(\"\\nTest Set Classification Report:\")\n",
        "print(classification_report(y_test, y_test_pred))\n",
        "print(\"\\nTest Set Confusion Matrix:\")\n",
        "print(confusion_matrix(y_test, y_test_pred))"
      ],
      "metadata": {
        "colab": {
          "base_uri": "https://localhost:8080/"
        },
        "id": "IWpwqrsetCfC",
        "outputId": "8993ad1b-d862-4e66-c1e3-cdc4e6d4421c"
      },
      "execution_count": 8,
      "outputs": [
        {
          "output_type": "stream",
          "name": "stdout",
          "text": [
            "\n",
            "Test Set Accuracy: 0.9932985852568875\n",
            "\n",
            "Test Set Classification Report:\n",
            "              precision    recall  f1-score   support\n",
            "\n",
            "           0       0.99      0.99      0.99       754\n",
            "           1       0.99      0.99      0.99       589\n",
            "\n",
            "    accuracy                           0.99      1343\n",
            "   macro avg       0.99      0.99      0.99      1343\n",
            "weighted avg       0.99      0.99      0.99      1343\n",
            "\n",
            "\n",
            "Test Set Confusion Matrix:\n",
            "[[750   4]\n",
            " [  5 584]]\n"
          ]
        }
      ]
    },
    {
      "cell_type": "markdown",
      "source": [
        "## Feature Importance Analysis"
      ],
      "metadata": {
        "id": "m75OXtKxtZBp"
      }
    },
    {
      "cell_type": "code",
      "source": [
        "import matplotlib.pyplot as plt\n",
        "\n",
        "# Plot feature importance\n",
        "feature_importances = tree_model.feature_importances_\n",
        "plt.figure(figsize=(10, 6))\n",
        "plt.bar(X.columns, feature_importances)\n",
        "plt.xticks(rotation=90)\n",
        "plt.title(\"Feature Importance\")\n",
        "plt.show()\n"
      ],
      "metadata": {
        "colab": {
          "base_uri": "https://localhost:8080/",
          "height": 816
        },
        "id": "-rn3gO5ftEyr",
        "outputId": "d05a6eee-0a00-4fb9-db22-1babc6306062"
      },
      "execution_count": 10,
      "outputs": [
        {
          "output_type": "display_data",
          "data": {
            "text/plain": [
              "<Figure size 1000x600 with 1 Axes>"
            ],
            "image/png": "[encoded data removed]"
          },
          "metadata": {}
        }
      ]
    },
    {
      "cell_type": "code",
      "source": [],
      "metadata": {
        "id": "oSN7jEsVtalD"
      },
      "execution_count": null,
      "outputs": []
    }
  ]
}